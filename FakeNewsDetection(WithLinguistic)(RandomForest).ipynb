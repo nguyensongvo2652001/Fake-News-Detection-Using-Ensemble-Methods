{
  "nbformat": 4,
  "nbformat_minor": 0,
  "metadata": {
    "colab": {
      "name": "FakeNewsDetection(WithLinguistic)(RandomForest).ipynb",
      "provenance": [],
      "collapsed_sections": []
    },
    "kernelspec": {
      "name": "python3",
      "display_name": "Python 3"
    },
    "language_info": {
      "name": "python"
    }
  },
  "cells": [
    {
      "cell_type": "code",
      "metadata": {
        "colab": {
          "base_uri": "https://localhost:8080/"
        },
        "id": "shA_nsowJsjo",
        "outputId": "a2421d0d-90dd-4445-87d0-8d97aebd8fb8"
      },
      "source": [
        "from google.colab import drive\n",
        "drive.mount('/content/gdrive')"
      ],
      "execution_count": null,
      "outputs": [
        {
          "output_type": "stream",
          "text": [
            "Mounted at /content/gdrive\n"
          ],
          "name": "stdout"
        }
      ]
    },
    {
      "cell_type": "code",
      "metadata": {
        "id": "VsNDjD6PKlFV"
      },
      "source": [
        "import pandas as pd\n",
        "import numpy as np"
      ],
      "execution_count": null,
      "outputs": []
    },
    {
      "cell_type": "code",
      "metadata": {
        "id": "xVHZFvefsNjA"
      },
      "source": [
        "def clean_text(text):\n",
        "    if text:\n",
        "        text = f'{text}'\n",
        "        #text = text.lower()\n",
        "        text = text.split()\n",
        "        ps = PorterStemmer()\n",
        "        text = [ps.stem(word) for word in text if text not in stopwords.words('english')]\n",
        "        text = ' '.join(text)\n",
        "        return text"
      ],
      "execution_count": null,
      "outputs": []
    },
    {
      "cell_type": "code",
      "metadata": {
        "id": "HBmrFFqDKy2Q",
        "colab": {
          "base_uri": "https://localhost:8080/"
        },
        "outputId": "1caf0b98-7dc1-4604-f51e-b7cdd63c6032"
      },
      "source": [
        "import nltk\n",
        "from nltk.corpus import stopwords\n",
        "from nltk.corpus import cmudict\n",
        "from nltk.stem.porter import PorterStemmer\n",
        "\n",
        "nltk.download('stopwords')\n",
        "nltk.download('tagsets')\n",
        "nltk.download('punkt')\n",
        "nltk.download('averaged_perceptron_tagger')\n",
        "\n",
        "nltk_tags = [\"''\",'(',')',',','--','.',':','CC','CD','DT','EX','FW','IN','JJ','JJR','JJS','LS','MD'\n",
        "             ,'NN','NNP','NNPS','NNS','PDT','POS','PRP','PRP$','RB','RBR','RBS','RP','SYM','TO','UH',\n",
        "             'VB','VBD','VBG','VBN','VBP','VBZ','WDT','WP','WP$','WRB']\n",
        "from nltk.stem.porter import PorterStemmer"
      ],
      "execution_count": null,
      "outputs": [
        {
          "output_type": "stream",
          "text": [
            "[nltk_data] Downloading package stopwords to /root/nltk_data...\n",
            "[nltk_data]   Package stopwords is already up-to-date!\n",
            "[nltk_data] Downloading package tagsets to /root/nltk_data...\n",
            "[nltk_data]   Package tagsets is already up-to-date!\n",
            "[nltk_data] Downloading package punkt to /root/nltk_data...\n",
            "[nltk_data]   Package punkt is already up-to-date!\n",
            "[nltk_data] Downloading package averaged_perceptron_tagger to\n",
            "[nltk_data]     /root/nltk_data...\n",
            "[nltk_data]   Package averaged_perceptron_tagger is already up-to-\n",
            "[nltk_data]       date!\n"
          ],
          "name": "stdout"
        }
      ]
    },
    {
      "cell_type": "code",
      "metadata": {
        "id": "BeTfx0dhKmT4"
      },
      "source": [
        "#Importing dataset 1 (First 5000 samples)\n",
        "data = pd.read_csv(\"/content/gdrive/MyDrive/train.csv\")\n",
        "\n",
        "X = []\n",
        "y = []\n",
        "for i in range(5000):\n",
        "  X.append(clean_text(data['title'][i]))\n",
        "  y.append(data['label'][i])"
      ],
      "execution_count": null,
      "outputs": []
    },
    {
      "cell_type": "code",
      "metadata": {
        "id": "JIDPpHrhsEva"
      },
      "source": [
        "#Import dataset 2 (First 5000 samples)\n",
        "data = pd.read_csv(\"/content/gdrive/MyDrive/fake_or_real_news.csv\")\n",
        "\n",
        "X = []\n",
        "y = []\n",
        "\n",
        "for i in range(5000):\n",
        "    X.append(clean_text(data['title'][i]))\n",
        "    if data['label'][i] == 'FAKE':\n",
        "        y.append(0)\n",
        "    else:\n",
        "        y.append(1)"
      ],
      "execution_count": null,
      "outputs": []
    },
    {
      "cell_type": "code",
      "metadata": {
        "id": "DhG_W_18xctG"
      },
      "source": [
        "#Import dataset 3\n",
        "fake_data = pd.read_csv(\"/content/gdrive/MyDrive/Fake.csv\",engine = 'python')\n",
        "true_data = pd.read_csv(\"/content/gdrive/MyDrive/True.csv\",engine = 'python')\n",
        "\n",
        "#Take 2500 samples from true data , 4064 samples from fake data\n",
        "X = []\n",
        "y = []\n",
        "for i in range(4064):\n",
        "    X.append(clean_text(fake_data['title'][i]))\n",
        "    y.append(0)\n",
        "for i in range(2500):\n",
        "    X.append(clean_text(true_data['title'][i]))\n",
        "    y.append(1)\n"
      ],
      "execution_count": null,
      "outputs": []
    },
    {
      "cell_type": "code",
      "metadata": {
        "id": "QG5HF4Wh_tnW"
      },
      "source": [
        "#Import dataset 4 (7950 samples)\n",
        "import sys\n",
        "import csv\n",
        "\n",
        "csv.field_size_limit(sys.maxsize)\n",
        "fake_data = pd.read_csv(\"/content/gdrive/MyDrive/Fake.csv\",engine = 'python')\n",
        "fake_data_2 = pd.read_csv(\"/content/gdrive/MyDrive/fake2.csv\",engine = 'python')\n",
        "true_data = pd.read_csv(\"/content/gdrive/MyDrive/True.csv\",engine = 'python')\n",
        "\n",
        "\n",
        "X = []\n",
        "y = []\n",
        "for i in range(1620):\n",
        "    X.append(clean_text(fake_data['title'][i]))\n",
        "    y.append(0)\n",
        "for i in range(2880):\n",
        "    X.append(clean_text(fake_data_2['title'][i]))\n",
        "    y.append(0)\n",
        "for i in range(3450):\n",
        "    X.append(clean_text(true_data['title'][i]))\n",
        "    y.append(1)"
      ],
      "execution_count": null,
      "outputs": []
    },
    {
      "cell_type": "code",
      "metadata": {
        "id": "N7laPkaJsGBh"
      },
      "source": [
        "#Importing the dataset 5 (185 samples)\n",
        "X  = []\n",
        "y = []\n",
        "\n",
        "with open(\"/content/gdrive/MyDrive/special_fake_news.txt\",'r',encoding = 'latin-1') as file:\n",
        "    texts = file.read().split('\\n')\n",
        "    for text in texts:\n",
        "        if text:\n",
        "            X.append(clean_text(text))\n",
        "            y.append(0)\n",
        "\n",
        "with open(\"/content/gdrive/MyDrive/special_real_news.txt\",'r',encoding = 'latin-1') as file:\n",
        "    texts = file.read().split('\\n')\n",
        "    for text in texts:\n",
        "        if text:\n",
        "            X.append(clean_text(text))\n",
        "            y.append(1)\n"
      ],
      "execution_count": null,
      "outputs": []
    },
    {
      "cell_type": "code",
      "metadata": {
        "id": "vCgkoh0gjmqX"
      },
      "source": [
        "#Import dataset 6 \n",
        "data = pd.read_csv(\"/content/gdrive/MyDrive/data.csv\")\n",
        "X = []\n",
        "y = data['Label']\n",
        "for i in range(len(data)):\n",
        "    X.append(clean_text(data['Headline'][i]))"
      ],
      "execution_count": null,
      "outputs": []
    },
    {
      "cell_type": "code",
      "metadata": {
        "id": "x4PlWsK7kvmZ"
      },
      "source": [
        "#Import dataset 7 \n",
        "X = []\n",
        "y = []\n",
        "\n",
        "#Get 2000 samples from dataset 6 \n",
        "data = pd.read_csv(\"/content/gdrive/MyDrive/data.csv\")\n",
        "for i in range(2000):\n",
        "    X.append(clean_text(data['Headline'][i]))\n",
        "    y.append(data['Label'][i])\n",
        "\n",
        "#Get all from dataset 5\n",
        "with open(\"/content/gdrive/MyDrive/special_fake_news.txt\",'r',encoding = 'latin-1') as file:\n",
        "    texts = file.read().split('\\n')\n",
        "    for text in texts:\n",
        "        if text:\n",
        "            X.append(clean_text(text))\n",
        "            y.append(0)\n",
        "\n",
        "with open(\"/content/gdrive/MyDrive/special_real_news.txt\",'r',encoding = 'latin-1') as file:\n",
        "    texts = file.read().split('\\n')\n",
        "    for text in texts:\n",
        "        if text:\n",
        "            X.append(clean_text(text))\n",
        "            y.append(1)\n",
        "\n",
        "#Get 2000 samples from dataset 1\n",
        "data = pd.read_csv(\"/content/gdrive/MyDrive/train.csv\")\n",
        "for i in range(5000):\n",
        "  X.append(clean_text(data['title'][i]))\n",
        "  y.append(data['label'][i])\n",
        "\n",
        "#Get 3000 samples from dataset 3\n",
        "fake_data = pd.read_csv(\"/content/gdrive/MyDrive/Fake.csv\",engine = 'python')\n",
        "true_data = pd.read_csv(\"/content/gdrive/MyDrive/True.csv\",engine = 'python')\n",
        "\n",
        "#Take 1100 samples from true data , 1900 samples from fake data\n",
        "for i in range(1100):\n",
        "    X.append(clean_text(fake_data['title'][i]))\n",
        "    y.append(0)\n",
        "for i in range(1900):\n",
        "    X.append(clean_text(true_data['title'][i]))\n",
        "    y.append(1)"
      ],
      "execution_count": null,
      "outputs": []
    },
    {
      "cell_type": "code",
      "metadata": {
        "id": "27IiPkdrK8tA"
      },
      "source": [
        "def count_uppercase(text):\n",
        "    result = 0\n",
        "    for char in text:\n",
        "        if char.isupper():\n",
        "            result += 1 \n",
        "            \n",
        "    return result"
      ],
      "execution_count": null,
      "outputs": []
    },
    {
      "cell_type": "code",
      "metadata": {
        "id": "0D-VG9yLK-Mo"
      },
      "source": [
        "def count_stopwords(text):\n",
        "    cnt = 0\n",
        "    for word in text.split(' '):\n",
        "        if word in stopwords.words('english'):\n",
        "            cnt += 1\n",
        "            \n",
        "    return cnt"
      ],
      "execution_count": null,
      "outputs": []
    },
    {
      "cell_type": "code",
      "metadata": {
        "id": "FewcNkawK_l_"
      },
      "source": [
        "def tag_text(text):\n",
        "    text = nltk.word_tokenize(text)\n",
        "    return nltk.pos_tag(text)"
      ],
      "execution_count": null,
      "outputs": []
    },
    {
      "cell_type": "code",
      "metadata": {
        "id": "Sx7f9LKWLTGT"
      },
      "source": [
        "def feature_selection_text(text):\n",
        "    import textstat\n",
        "    result = []\n",
        "    #Syntax-based features \n",
        "    result.append(len(text)) #count chars\n",
        "    result.append(len(text.split(' '))) #count words\n",
        "    result.append(count_stopwords(text)) #count stopwords\n",
        "    result.append(count_uppercase(text)) #Count uppercase\n",
        "\n",
        "    \n",
        "    #Grammatical evidence\n",
        "    #Count tags\n",
        "    tags_dict = {}\n",
        "    for tag in nltk_tags:\n",
        "        tags_dict[tag] = 0\n",
        "    \n",
        "    tags = tag_text(text)\n",
        "    for _,tag in tags:\n",
        "        try:\n",
        "            tags_dict[tag] += 1\n",
        "        except:\n",
        "            continue\n",
        "    \n",
        "    for i in range(len(nltk_tags)):\n",
        "        nltk_tag = nltk_tags[i]\n",
        "        result.append(tags_dict[nltk_tag])\n",
        "    \n",
        "\n",
        "    \n",
        "    #Readability features \n",
        "    result.append(textstat.flesch_reading_ease(text))\n",
        "    result.append(textstat.smog_index(text))\n",
        "    result.append(textstat.flesch_kincaid_grade(text))\n",
        "    result.append(textstat.coleman_liau_index(text))\n",
        "    result.append(textstat.automated_readability_index(text))\n",
        "    result.append(textstat.linsear_write_formula(text))\n",
        "\n",
        "    return result"
      ],
      "execution_count": null,
      "outputs": []
    },
    {
      "cell_type": "code",
      "metadata": {
        "id": "olMeAtW1LUzj"
      },
      "source": [
        "def feature_selection_texts(arr):\n",
        "    return np.array([feature_selection_text(item) for item in arr])"
      ],
      "execution_count": null,
      "outputs": []
    },
    {
      "cell_type": "code",
      "metadata": {
        "id": "n2VbZMdoMRAL"
      },
      "source": [
        "#Split test set\n",
        "from sklearn.model_selection import train_test_split \n",
        "X_train , X_test , y_train , y_test = train_test_split(X,y, test_size = 0.3,random_state = 0)"
      ],
      "execution_count": null,
      "outputs": []
    },
    {
      "cell_type": "code",
      "metadata": {
        "id": "B84J3WPNLX-L"
      },
      "source": [
        "#Import necessary modules for classification\n",
        "from sklearn.preprocessing import FunctionTransformer\n",
        "from sklearn.pipeline import Pipeline, FeatureUnion\n",
        "from sklearn.ensemble import RandomForestClassifier\n",
        "from sklearn.feature_extraction.text import CountVectorizer"
      ],
      "execution_count": null,
      "outputs": []
    },
    {
      "cell_type": "code",
      "metadata": {
        "colab": {
          "base_uri": "https://localhost:8080/"
        },
        "id": "cZbJEtg6spRQ",
        "outputId": "f8f0cfb1-9e09-478c-9efc-6006b6b08c5b"
      },
      "source": [
        "pip install textstat"
      ],
      "execution_count": null,
      "outputs": [
        {
          "output_type": "stream",
          "text": [
            "Collecting textstat\n",
            "\u001b[?25l  Downloading https://files.pythonhosted.org/packages/ce/42/3e3691ff23d2f3e30ef18bd382d9450e992e2da7e01ca33d392b473eba05/textstat-0.7.1-py3-none-any.whl (99kB)\n",
            "\u001b[K     |████████████████████████████████| 102kB 3.2MB/s \n",
            "\u001b[?25hCollecting pyphen\n",
            "\u001b[?25l  Downloading https://files.pythonhosted.org/packages/7c/5a/5bc036e01389bc6a6667a932bac3e388de6e7fa5777a6ff50e652f60ec79/Pyphen-0.10.0-py3-none-any.whl (1.9MB)\n",
            "\u001b[K     |████████████████████████████████| 1.9MB 15.4MB/s \n",
            "\u001b[?25hInstalling collected packages: pyphen, textstat\n",
            "Successfully installed pyphen-0.10.0 textstat-0.7.1\n"
          ],
          "name": "stdout"
        }
      ]
    },
    {
      "cell_type": "code",
      "metadata": {
        "id": "hy4zBiAvLztH"
      },
      "source": [
        "#Fit model\n",
        "classifier = Pipeline([\n",
        "    ('features', FeatureUnion([\n",
        "        ('count_vectorizer', Pipeline([\n",
        "            ('vectorizer', CountVectorizer()),\n",
        "        ])),\n",
        "        ('more', Pipeline([\n",
        "            ('linguistic_features', FunctionTransformer(feature_selection_texts, validate=False)),\n",
        "        ]))\n",
        "    ])),\n",
        "    ('rf', RandomForestClassifier(n_estimators=50, random_state=0))])\n",
        "\n",
        "classifier = classifier.fit(X_train,y_train)"
      ],
      "execution_count": null,
      "outputs": []
    },
    {
      "cell_type": "code",
      "metadata": {
        "id": "doz_5FKOMn8C"
      },
      "source": [
        "y_pred = classifier.predict(X_test)"
      ],
      "execution_count": null,
      "outputs": []
    },
    {
      "cell_type": "code",
      "metadata": {
        "id": "o_4AXv_4Mw5g"
      },
      "source": [
        "#Making confusion matrix\n",
        "from sklearn.metrics import confusion_matrix\n",
        "cm = confusion_matrix(y_test , y_pred)"
      ],
      "execution_count": null,
      "outputs": []
    },
    {
      "cell_type": "code",
      "metadata": {
        "id": "u3SOwD3jM2o7"
      },
      "source": [
        "def calculate_accuracy(cm):\n",
        "    tn = cm[0][0]\n",
        "    tp = cm[1][1]\n",
        "    fp = cm[0][1]\n",
        "    fn = cm[1][0]\n",
        "        \n",
        "    accuracy = (tn + tp) / (tn + tp + fp + fn)\n",
        "    precision = tp/(tp+fp)\n",
        "    recall = tp/(tp+fn)\n",
        "    f1 = 2*(precision*recall)/(precision + recall)\n",
        "    average = (accuracy + precision + recall + f1) /4 \n",
        "    return [accuracy , precision , recall , f1 , average]\n",
        "    "
      ],
      "execution_count": null,
      "outputs": []
    },
    {
      "cell_type": "code",
      "metadata": {
        "id": "PNyveeLdM5b0"
      },
      "source": [
        "acc = calculate_accuracy(cm)"
      ],
      "execution_count": null,
      "outputs": []
    },
    {
      "cell_type": "code",
      "metadata": {
        "colab": {
          "base_uri": "https://localhost:8080/"
        },
        "id": "tPfVxJeYM7b_",
        "outputId": "51a4f8c3-8481-4c9d-f41a-6c7f8e96246c"
      },
      "source": [
        "acc"
      ],
      "execution_count": null,
      "outputs": [
        {
          "output_type": "execute_result",
          "data": {
            "text/plain": [
              "[0.8456221198156681,\n",
              " 0.8191733639494834,\n",
              " 0.9025932953826692,\n",
              " 0.858862473668372,\n",
              " 0.8565628132040481]"
            ]
          },
          "metadata": {
            "tags": []
          },
          "execution_count": 53
        }
      ]
    },
    {
      "cell_type": "code",
      "metadata": {
        "id": "b4vRkHswf-D7",
        "colab": {
          "base_uri": "https://localhost:8080/"
        },
        "outputId": "0c68ac1d-4fe8-413d-a1ed-af848b5241f4"
      },
      "source": [
        "len(X)"
      ],
      "execution_count": null,
      "outputs": [
        {
          "output_type": "execute_result",
          "data": {
            "text/plain": [
              "10125"
            ]
          },
          "metadata": {
            "tags": []
          },
          "execution_count": 55
        }
      ]
    }
  ]
}